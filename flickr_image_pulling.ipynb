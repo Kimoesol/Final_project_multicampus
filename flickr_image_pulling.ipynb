{
 "cells": [
  {
   "cell_type": "markdown",
   "metadata": {},
   "source": [
    "### Project Source"
   ]
  },
  {
   "cell_type": "code",
   "execution_count": 2,
   "metadata": {},
   "outputs": [],
   "source": [
    "from flickrapi import FlickrAPI"
   ]
  },
  {
   "cell_type": "code",
   "execution_count": 3,
   "metadata": {},
   "outputs": [],
   "source": [
    "key = 'b88ca2b24d6576e7f599262d39ee7369'\n",
    "secret = 'b59f9d28f3c5543d'"
   ]
  },
  {
   "cell_type": "code",
   "execution_count": 4,
   "metadata": {},
   "outputs": [],
   "source": [
    "flickr = FlickrAPI(key, secret, format='parsed-json')"
   ]
  },
  {
   "cell_type": "code",
   "execution_count": 17,
   "metadata": {},
   "outputs": [],
   "source": [
    "extras='url_o'"
   ]
  },
  {
   "cell_type": "code",
   "execution_count": 18,
   "metadata": {},
   "outputs": [],
   "source": [
    "italy = flickr.photos.search(lat=42.504154, lon=12.646361, per_pages=50, extras=extras)"
   ]
  },
  {
   "cell_type": "code",
   "execution_count": 34,
   "metadata": {
    "scrolled": true
   },
   "outputs": [],
   "source": [
    "photos = italy['photos']['photo']"
   ]
  },
  {
   "cell_type": "code",
   "execution_count": 39,
   "metadata": {},
   "outputs": [
    {
     "data": {
      "text/plain": [
       "'35474387130'"
      ]
     },
     "execution_count": 39,
     "metadata": {},
     "output_type": "execute_result"
    }
   ],
   "source": [
    "photos[0]['id']"
   ]
  },
  {
   "cell_type": "code",
   "execution_count": 42,
   "metadata": {},
   "outputs": [
    {
     "data": {
      "text/plain": [
       "'49498046336'"
      ]
     },
     "execution_count": 42,
     "metadata": {},
     "output_type": "execute_result"
    }
   ],
   "source": [
    "photos[1]['id']"
   ]
  },
  {
   "cell_type": "code",
   "execution_count": 43,
   "metadata": {},
   "outputs": [
    {
     "data": {
      "text/plain": [
       "str"
      ]
     },
     "execution_count": 43,
     "metadata": {},
     "output_type": "execute_result"
    }
   ],
   "source": [
    "type(photos[2]['id'])"
   ]
  },
  {
   "cell_type": "code",
   "execution_count": 57,
   "metadata": {},
   "outputs": [],
   "source": [
    "photo_id = []\n",
    "for k in range(len(photos)):\n",
    "    photo_id.append(photos[k]['id'])"
   ]
  },
  {
   "cell_type": "code",
   "execution_count": 64,
   "metadata": {},
   "outputs": [
    {
     "name": "stdout",
     "output_type": "stream",
     "text": [
      "250\n"
     ]
    }
   ],
   "source": [
    "print(len(photo_id))"
   ]
  },
  {
   "cell_type": "code",
   "execution_count": 74,
   "metadata": {},
   "outputs": [
    {
     "data": {
      "text/plain": [
       "'49478478662'"
      ]
     },
     "execution_count": 74,
     "metadata": {},
     "output_type": "execute_result"
    }
   ],
   "source": [
    "photo_id[249]"
   ]
  },
  {
   "cell_type": "code",
   "execution_count": 113,
   "metadata": {},
   "outputs": [],
   "source": [
    "from tqdm import tqdm # python에서 for문 진행 현황 확인하는 라이브러리"
   ]
  },
  {
   "cell_type": "code",
   "execution_count": 114,
   "metadata": {},
   "outputs": [
    {
     "name": "stderr",
     "output_type": "stream",
     "text": [
      "100%|████████████████████████████████████████████████████████████████████████████████| 250/250 [01:14<00:00,  3.34it/s]\n"
     ]
    }
   ],
   "source": [
    "# 각각의 photo_id 에 대해 tag, title, url 추출\n",
    "for i in tqdm(range(len(photo_id))):\n",
    "    information = flickr.photos.getInfo(photo_id=photo_id[i])\n",
    "    \n",
    "    # tag 추출\n",
    "    tags = information['photo']['tags']['tag']\n",
    "    information_tag = []\n",
    "    for i in range(len(tags)):\n",
    "        information_tag.append(tags[i]['_content'])\n",
    "        pass\n",
    "    \n",
    "    # title 추출\n",
    "    information_title = information['photo']['title']['_content']\n",
    "    \n",
    "    # url 추출\n",
    "    information_url = information['photo']['urls']['url'][0]['_content']\n",
    "    \n",
    "    pass\n",
    "\n",
    "### 해야 할 일: photo_id 기준으로 tag, title, url을 한 눈에 볼 수 있는 dataframe 만드는 것 [pandas에 대한 이해 높이자!]"
   ]
  },
  {
   "cell_type": "code",
   "execution_count": 72,
   "metadata": {},
   "outputs": [],
   "source": [
    "info = flickr.photos.getInfo(photo_id=photo_id)\n",
    "# photo_id 순환하면서 각각 url, title, tag 추출하는 로직 만들어야 함"
   ]
  },
  {
   "cell_type": "code",
   "execution_count": 73,
   "metadata": {
    "scrolled": true
   },
   "outputs": [
    {
     "data": {
      "text/plain": [
       "{'photo': {'id': '49478478662',\n",
       "  'secret': '99fdd3695c',\n",
       "  'server': '65535',\n",
       "  'farm': 66,\n",
       "  'dateuploaded': '1580661266',\n",
       "  'isfavorite': 0,\n",
       "  'license': '0',\n",
       "  'safety_level': '0',\n",
       "  'rotation': 0,\n",
       "  'originalsecret': '66bf54b9f4',\n",
       "  'originalformat': 'jpg',\n",
       "  'owner': {'nsid': '48506787@N07',\n",
       "   'username': 'Roberto Bertolle',\n",
       "   'realname': 'Roberto Bertolle',\n",
       "   'location': 'Terni, Italy',\n",
       "   'iconserver': '4574',\n",
       "   'iconfarm': 5,\n",
       "   'path_alias': 'robertobertolle'},\n",
       "  'title': {'_content': '40° Maratonina di San Valentino (2020) - 5810'},\n",
       "  'description': {'_content': '40° Maratonina di San Valentino (2020)\\nIn onore del Patrono di Terni\\n16° Memorial Guglielmo Tessicini\\nGara non competiva di 6 o 11 Km\\nTerni 02 Febbraio 2020'},\n",
       "  'visibility': {'ispublic': 1, 'isfriend': 0, 'isfamily': 0},\n",
       "  'dates': {'posted': '1580661266',\n",
       "   'taken': '2020-02-02 10:51:09',\n",
       "   'takengranularity': '0',\n",
       "   'takenunknown': '0',\n",
       "   'lastupdate': '1580672456'},\n",
       "  'views': '127',\n",
       "  'editability': {'cancomment': 0, 'canaddmeta': 0},\n",
       "  'publiceditability': {'cancomment': 1, 'canaddmeta': 0},\n",
       "  'usage': {'candownload': 1, 'canblog': 0, 'canprint': 0, 'canshare': 1},\n",
       "  'comments': {'_content': '0'},\n",
       "  'notes': {'note': []},\n",
       "  'people': {'haspeople': 0},\n",
       "  'tags': {'tag': [{'id': '48485457-49478478662-53800983',\n",
       "     'author': '48506787@N07',\n",
       "     'authorname': 'Roberto Bertolle',\n",
       "     'raw': 'Roberto Bertolle',\n",
       "     '_content': 'robertobertolle',\n",
       "     'machine_tag': 0},\n",
       "    {'id': '48485457-49478478662-53648761',\n",
       "     'author': '48506787@N07',\n",
       "     'authorname': 'Roberto Bertolle',\n",
       "     'raw': 'Robertolle',\n",
       "     '_content': 'robertolle',\n",
       "     'machine_tag': 0},\n",
       "    {'id': '48485457-49478478662-26191',\n",
       "     'author': '48506787@N07',\n",
       "     'authorname': 'Roberto Bertolle',\n",
       "     'raw': 'Roberto',\n",
       "     '_content': 'roberto',\n",
       "     'machine_tag': 0},\n",
       "    {'id': '48485457-49478478662-53562927',\n",
       "     'author': '48506787@N07',\n",
       "     'authorname': 'Roberto Bertolle',\n",
       "     'raw': 'Bertolle',\n",
       "     '_content': 'bertolle',\n",
       "     'machine_tag': 0},\n",
       "    {'id': '48485457-49478478662-3442',\n",
       "     'author': '48506787@N07',\n",
       "     'authorname': 'Roberto Bertolle',\n",
       "     'raw': 'Italia',\n",
       "     '_content': 'italia',\n",
       "     'machine_tag': 0},\n",
       "    {'id': '48485457-49478478662-297',\n",
       "     'author': '48506787@N07',\n",
       "     'authorname': 'Roberto Bertolle',\n",
       "     'raw': 'Italy',\n",
       "     '_content': 'italy',\n",
       "     'machine_tag': 0},\n",
       "    {'id': '48485457-49478478662-67849',\n",
       "     'author': '48506787@N07',\n",
       "     'authorname': 'Roberto Bertolle',\n",
       "     'raw': 'Umbria',\n",
       "     '_content': 'umbria',\n",
       "     'machine_tag': 0},\n",
       "    {'id': '48485457-49478478662-220875',\n",
       "     'author': '48506787@N07',\n",
       "     'authorname': 'Roberto Bertolle',\n",
       "     'raw': 'Terni',\n",
       "     '_content': 'terni',\n",
       "     'machine_tag': 0},\n",
       "    {'id': '48485457-49478478662-202710',\n",
       "     'author': '48506787@N07',\n",
       "     'authorname': 'Roberto Bertolle',\n",
       "     'raw': 'maratona',\n",
       "     '_content': 'maratona',\n",
       "     'machine_tag': 0},\n",
       "    {'id': '48485457-49478478662-966',\n",
       "     'author': '48506787@N07',\n",
       "     'authorname': 'Roberto Bertolle',\n",
       "     'raw': 'sport',\n",
       "     '_content': 'sport',\n",
       "     'machine_tag': 0},\n",
       "    {'id': '48485457-49478478662-1281841',\n",
       "     'author': '48506787@N07',\n",
       "     'authorname': 'Roberto Bertolle',\n",
       "     'raw': 'podismo',\n",
       "     '_content': 'podismo',\n",
       "     'machine_tag': 0},\n",
       "    {'id': '48485457-49478478662-6195681',\n",
       "     'author': '48506787@N07',\n",
       "     'authorname': 'Roberto Bertolle',\n",
       "     'raw': 'maratonina',\n",
       "     '_content': 'maratonina',\n",
       "     'machine_tag': 0},\n",
       "    {'id': '48485457-49478478662-496591571',\n",
       "     'author': '48506787@N07',\n",
       "     'authorname': 'Roberto Bertolle',\n",
       "     'raw': '40° Maratonina di San Valentino',\n",
       "     '_content': '40°maratoninadisanvalentino',\n",
       "     'machine_tag': 0}]},\n",
       "  'location': {'latitude': '42.559671',\n",
       "   'longitude': '12.641079',\n",
       "   'accuracy': '16',\n",
       "   'context': '0',\n",
       "   'locality': {'_content': 'Terni'},\n",
       "   'county': {'_content': 'Province of Terni'},\n",
       "   'region': {'_content': 'Umbria'},\n",
       "   'country': {'_content': 'Italy'},\n",
       "   'neighbourhood': {'_content': 'Roman catholic diocese of Terni'}},\n",
       "  'geoperms': {'ispublic': 1, 'iscontact': 0, 'isfriend': 0, 'isfamily': 0},\n",
       "  'urls': {'url': [{'type': 'photopage',\n",
       "     '_content': 'https://www.flickr.com/photos/robertobertolle/49478478662/'}]},\n",
       "  'media': 'photo'},\n",
       " 'stat': 'ok'}"
      ]
     },
     "execution_count": 73,
     "metadata": {},
     "output_type": "execute_result"
    }
   ],
   "source": [
    "info"
   ]
  },
  {
   "cell_type": "code",
   "execution_count": 71,
   "metadata": {},
   "outputs": [
    {
     "data": {
      "text/plain": [
       "2"
      ]
     },
     "execution_count": 71,
     "metadata": {},
     "output_type": "execute_result"
    }
   ],
   "source": [
    "len(info) # photo, stat"
   ]
  },
  {
   "cell_type": "code",
   "execution_count": 95,
   "metadata": {},
   "outputs": [
    {
     "name": "stdout",
     "output_type": "stream",
     "text": [
      "https://www.flickr.com/photos/robertobertolle/49478478662/\n"
     ]
    }
   ],
   "source": [
    "# url 추출\n",
    "info_url = info['photo']['urls']['url'][0]['_content']\n",
    "print(info_url)"
   ]
  },
  {
   "cell_type": "code",
   "execution_count": 94,
   "metadata": {},
   "outputs": [
    {
     "name": "stdout",
     "output_type": "stream",
     "text": [
      "40° Maratonina di San Valentino (2020) - 5810\n"
     ]
    }
   ],
   "source": [
    "# title 추출\n",
    "info_title = info['photo']['title']['_content']\n",
    "print(info_title)"
   ]
  },
  {
   "cell_type": "code",
   "execution_count": 106,
   "metadata": {},
   "outputs": [
    {
     "name": "stdout",
     "output_type": "stream",
     "text": [
      "['robertobertolle', 'robertolle', 'roberto', 'bertolle', 'italia', 'italy', 'umbria', 'terni', 'maratona', 'sport', 'podismo', 'maratonina', '40°maratoninadisanvalentino']\n"
     ]
    }
   ],
   "source": [
    "# tag 추출\n",
    "tags = info['photo']['tags']['tag']\n",
    "# print(info_tag)\n",
    "info_tag = []\n",
    "for i in range(len(tags)):\n",
    "    info_tag.append(tags[i]['_content'])\n",
    "print(info_tag)"
   ]
  },
  {
   "cell_type": "code",
   "execution_count": 75,
   "metadata": {},
   "outputs": [],
   "source": [
    "import pandas as pd"
   ]
  },
  {
   "cell_type": "code",
   "execution_count": 76,
   "metadata": {},
   "outputs": [],
   "source": [
    "info_df = pd.DataFrame(info)"
   ]
  },
  {
   "cell_type": "code",
   "execution_count": 77,
   "metadata": {},
   "outputs": [
    {
     "data": {
      "text/html": [
       "<div>\n",
       "<style scoped>\n",
       "    .dataframe tbody tr th:only-of-type {\n",
       "        vertical-align: middle;\n",
       "    }\n",
       "\n",
       "    .dataframe tbody tr th {\n",
       "        vertical-align: top;\n",
       "    }\n",
       "\n",
       "    .dataframe thead th {\n",
       "        text-align: right;\n",
       "    }\n",
       "</style>\n",
       "<table border=\"1\" class=\"dataframe\">\n",
       "  <thead>\n",
       "    <tr style=\"text-align: right;\">\n",
       "      <th></th>\n",
       "      <th>photo</th>\n",
       "      <th>stat</th>\n",
       "    </tr>\n",
       "  </thead>\n",
       "  <tbody>\n",
       "    <tr>\n",
       "      <th>comments</th>\n",
       "      <td>{'_content': '0'}</td>\n",
       "      <td>ok</td>\n",
       "    </tr>\n",
       "    <tr>\n",
       "      <th>dates</th>\n",
       "      <td>{'posted': '1580661266', 'taken': '2020-02-02 ...</td>\n",
       "      <td>ok</td>\n",
       "    </tr>\n",
       "    <tr>\n",
       "      <th>dateuploaded</th>\n",
       "      <td>1580661266</td>\n",
       "      <td>ok</td>\n",
       "    </tr>\n",
       "    <tr>\n",
       "      <th>description</th>\n",
       "      <td>{'_content': '40° Maratonina di San Valentino ...</td>\n",
       "      <td>ok</td>\n",
       "    </tr>\n",
       "    <tr>\n",
       "      <th>editability</th>\n",
       "      <td>{'cancomment': 0, 'canaddmeta': 0}</td>\n",
       "      <td>ok</td>\n",
       "    </tr>\n",
       "    <tr>\n",
       "      <th>farm</th>\n",
       "      <td>66</td>\n",
       "      <td>ok</td>\n",
       "    </tr>\n",
       "    <tr>\n",
       "      <th>geoperms</th>\n",
       "      <td>{'ispublic': 1, 'iscontact': 0, 'isfriend': 0,...</td>\n",
       "      <td>ok</td>\n",
       "    </tr>\n",
       "    <tr>\n",
       "      <th>id</th>\n",
       "      <td>49478478662</td>\n",
       "      <td>ok</td>\n",
       "    </tr>\n",
       "    <tr>\n",
       "      <th>isfavorite</th>\n",
       "      <td>0</td>\n",
       "      <td>ok</td>\n",
       "    </tr>\n",
       "    <tr>\n",
       "      <th>license</th>\n",
       "      <td>0</td>\n",
       "      <td>ok</td>\n",
       "    </tr>\n",
       "    <tr>\n",
       "      <th>location</th>\n",
       "      <td>{'latitude': '42.559671', 'longitude': '12.641...</td>\n",
       "      <td>ok</td>\n",
       "    </tr>\n",
       "    <tr>\n",
       "      <th>media</th>\n",
       "      <td>photo</td>\n",
       "      <td>ok</td>\n",
       "    </tr>\n",
       "    <tr>\n",
       "      <th>notes</th>\n",
       "      <td>{'note': []}</td>\n",
       "      <td>ok</td>\n",
       "    </tr>\n",
       "    <tr>\n",
       "      <th>originalformat</th>\n",
       "      <td>jpg</td>\n",
       "      <td>ok</td>\n",
       "    </tr>\n",
       "    <tr>\n",
       "      <th>originalsecret</th>\n",
       "      <td>66bf54b9f4</td>\n",
       "      <td>ok</td>\n",
       "    </tr>\n",
       "    <tr>\n",
       "      <th>owner</th>\n",
       "      <td>{'nsid': '48506787@N07', 'username': 'Roberto ...</td>\n",
       "      <td>ok</td>\n",
       "    </tr>\n",
       "    <tr>\n",
       "      <th>people</th>\n",
       "      <td>{'haspeople': 0}</td>\n",
       "      <td>ok</td>\n",
       "    </tr>\n",
       "    <tr>\n",
       "      <th>publiceditability</th>\n",
       "      <td>{'cancomment': 1, 'canaddmeta': 0}</td>\n",
       "      <td>ok</td>\n",
       "    </tr>\n",
       "    <tr>\n",
       "      <th>rotation</th>\n",
       "      <td>0</td>\n",
       "      <td>ok</td>\n",
       "    </tr>\n",
       "    <tr>\n",
       "      <th>safety_level</th>\n",
       "      <td>0</td>\n",
       "      <td>ok</td>\n",
       "    </tr>\n",
       "    <tr>\n",
       "      <th>secret</th>\n",
       "      <td>99fdd3695c</td>\n",
       "      <td>ok</td>\n",
       "    </tr>\n",
       "    <tr>\n",
       "      <th>server</th>\n",
       "      <td>65535</td>\n",
       "      <td>ok</td>\n",
       "    </tr>\n",
       "    <tr>\n",
       "      <th>tags</th>\n",
       "      <td>{'tag': [{'id': '48485457-49478478662-53800983...</td>\n",
       "      <td>ok</td>\n",
       "    </tr>\n",
       "    <tr>\n",
       "      <th>title</th>\n",
       "      <td>{'_content': '40° Maratonina di San Valentino ...</td>\n",
       "      <td>ok</td>\n",
       "    </tr>\n",
       "    <tr>\n",
       "      <th>urls</th>\n",
       "      <td>{'url': [{'type': 'photopage', '_content': 'ht...</td>\n",
       "      <td>ok</td>\n",
       "    </tr>\n",
       "    <tr>\n",
       "      <th>usage</th>\n",
       "      <td>{'candownload': 1, 'canblog': 0, 'canprint': 0...</td>\n",
       "      <td>ok</td>\n",
       "    </tr>\n",
       "    <tr>\n",
       "      <th>views</th>\n",
       "      <td>127</td>\n",
       "      <td>ok</td>\n",
       "    </tr>\n",
       "    <tr>\n",
       "      <th>visibility</th>\n",
       "      <td>{'ispublic': 1, 'isfriend': 0, 'isfamily': 0}</td>\n",
       "      <td>ok</td>\n",
       "    </tr>\n",
       "  </tbody>\n",
       "</table>\n",
       "</div>"
      ],
      "text/plain": [
       "                                                               photo stat\n",
       "comments                                           {'_content': '0'}   ok\n",
       "dates              {'posted': '1580661266', 'taken': '2020-02-02 ...   ok\n",
       "dateuploaded                                              1580661266   ok\n",
       "description        {'_content': '40° Maratonina di San Valentino ...   ok\n",
       "editability                       {'cancomment': 0, 'canaddmeta': 0}   ok\n",
       "farm                                                              66   ok\n",
       "geoperms           {'ispublic': 1, 'iscontact': 0, 'isfriend': 0,...   ok\n",
       "id                                                       49478478662   ok\n",
       "isfavorite                                                         0   ok\n",
       "license                                                            0   ok\n",
       "location           {'latitude': '42.559671', 'longitude': '12.641...   ok\n",
       "media                                                          photo   ok\n",
       "notes                                                   {'note': []}   ok\n",
       "originalformat                                                   jpg   ok\n",
       "originalsecret                                            66bf54b9f4   ok\n",
       "owner              {'nsid': '48506787@N07', 'username': 'Roberto ...   ok\n",
       "people                                              {'haspeople': 0}   ok\n",
       "publiceditability                 {'cancomment': 1, 'canaddmeta': 0}   ok\n",
       "rotation                                                           0   ok\n",
       "safety_level                                                       0   ok\n",
       "secret                                                    99fdd3695c   ok\n",
       "server                                                         65535   ok\n",
       "tags               {'tag': [{'id': '48485457-49478478662-53800983...   ok\n",
       "title              {'_content': '40° Maratonina di San Valentino ...   ok\n",
       "urls               {'url': [{'type': 'photopage', '_content': 'ht...   ok\n",
       "usage              {'candownload': 1, 'canblog': 0, 'canprint': 0...   ok\n",
       "views                                                            127   ok\n",
       "visibility             {'ispublic': 1, 'isfriend': 0, 'isfamily': 0}   ok"
      ]
     },
     "execution_count": 77,
     "metadata": {},
     "output_type": "execute_result"
    }
   ],
   "source": [
    "info_df"
   ]
  },
  {
   "cell_type": "markdown",
   "metadata": {},
   "source": [
    "##### \"결국엔 dataframe 형태 -> csv 파일로 만들어야 한다\""
   ]
  }
 ],
 "metadata": {
  "kernelspec": {
   "display_name": "Python 3",
   "language": "python",
   "name": "python3"
  },
  "language_info": {
   "codemirror_mode": {
    "name": "ipython",
    "version": 3
   },
   "file_extension": ".py",
   "mimetype": "text/x-python",
   "name": "python",
   "nbconvert_exporter": "python",
   "pygments_lexer": "ipython3",
   "version": "3.6.10"
  }
 },
 "nbformat": 4,
 "nbformat_minor": 4
}
