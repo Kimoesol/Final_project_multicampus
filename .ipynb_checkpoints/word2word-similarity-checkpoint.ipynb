{
 "cells": [
  {
   "cell_type": "code",
   "execution_count": 7,
   "metadata": {},
   "outputs": [],
   "source": [
    "import io\n",
    "import os\n",
    "import pandas as pd\n",
    "from google.cloud import vision"
   ]
  },
  {
   "cell_type": "code",
   "execution_count": 28,
   "metadata": {},
   "outputs": [],
   "source": [
    "trip_category = ['accommodation', 'food', 'shopping', 'activities', 'event', 'history', 'transportation', 'weather', 'nature', 'landmark']"
   ]
  },
  {
   "cell_type": "code",
   "execution_count": 29,
   "metadata": {},
   "outputs": [
    {
     "data": {
      "text/plain": [
       "10"
      ]
     },
     "execution_count": 29,
     "metadata": {},
     "output_type": "execute_result"
    }
   ],
   "source": [
    "len(trip_category)"
   ]
  },
  {
   "cell_type": "code",
   "execution_count": 8,
   "metadata": {},
   "outputs": [],
   "source": [
    "# API 인증을 위한 json 파일을 윈도우 환경 변수로 지정\n",
    "os.environ['GOOGLE_APPLICATION_CREDENTIALS'] = 'c:/secret_key/My Project 45072-ed8deab854f2.json'"
   ]
  },
  {
   "cell_type": "code",
   "execution_count": 10,
   "metadata": {},
   "outputs": [],
   "source": [
    "# 저장해 둔 여행지 이미지를 불러오기\n",
    "path_dir = 'c:/Final_project_multicampus/rome'\n",
    "file_list = os.listdir(path_dir)"
   ]
  },
  {
   "cell_type": "code",
   "execution_count": 11,
   "metadata": {},
   "outputs": [],
   "source": [
    "file_name = os.path.join(path_dir, file_list[0])\n",
    "with io.open(file_name, 'rb') as image_file:\n",
    "    content = image_file.read()"
   ]
  },
  {
   "cell_type": "code",
   "execution_count": 12,
   "metadata": {},
   "outputs": [
    {
     "name": "stdout",
     "output_type": "stream",
     "text": [
      "[mid: \"/m/065zs54\"\n",
      "description: \"Holy places\"\n",
      "score: 0.9209483861923218\n",
      "topicality: 0.9209483861923218\n",
      ", mid: \"/m/0f85g\"\n",
      "description: \"Basilica\"\n",
      "score: 0.9057327508926392\n",
      "topicality: 0.9057327508926392\n",
      ", mid: \"/m/02nvjx\"\n",
      "description: \"Place of worship\"\n",
      "score: 0.9037657380104065\n",
      "topicality: 0.9037657380104065\n",
      ", mid: \"/m/01sqnx\"\n",
      "description: \"Byzantine architecture\"\n",
      "score: 0.8826647400856018\n",
      "topicality: 0.8826647400856018\n",
      ", mid: \"/m/016br2\"\n",
      "description: \"Dome\"\n",
      "score: 0.8689634203910828\n",
      "topicality: 0.8689634203910828\n",
      ", mid: \"/m/01wb7\"\n",
      "description: \"Church\"\n",
      "score: 0.8666149973869324\n",
      "topicality: 0.8666149973869324\n",
      ", mid: \"/m/0cgh4\"\n",
      "description: \"Building\"\n",
      "score: 0.8600332140922546\n",
      "topicality: 0.8600332140922546\n",
      ", mid: \"/m/03nfmq\"\n",
      "description: \"Architecture\"\n",
      "score: 0.843872606754303\n",
      "topicality: 0.843872606754303\n",
      ", mid: \"/m/0h64tv6\"\n",
      "description: \"Religious institute\"\n",
      "score: 0.825179398059845\n",
      "topicality: 0.825179398059845\n",
      ", mid: \"/m/0173tc\"\n",
      "description: \"Chapel\"\n",
      "score: 0.7691023945808411\n",
      "topicality: 0.7691023945808411\n",
      ", mid: \"/m/0c_6z\"\n",
      "description: \"Synagogue\"\n",
      "score: 0.7315632700920105\n",
      "topicality: 0.7315632700920105\n",
      ", mid: \"/m/0hyb2\"\n",
      "description: \"Altar\"\n",
      "score: 0.6552997827529907\n",
      "topicality: 0.6552997827529907\n",
      ", mid: \"/m/0cfs8\"\n",
      "description: \"Cathedral\"\n",
      "score: 0.6233432292938232\n",
      "topicality: 0.6233432292938232\n",
      ", mid: \"/m/036jvk\"\n",
      "description: \"Stock photography\"\n",
      "score: 0.6205405592918396\n",
      "topicality: 0.6205405592918396\n",
      ", mid: \"/m/0_ch6\"\n",
      "description: \"Convent\"\n",
      "score: 0.6147932410240173\n",
      "topicality: 0.6147932410240173\n",
      ", mid: \"/m/02rfdq\"\n",
      "description: \"Interior design\"\n",
      "score: 0.5430720448493958\n",
      "topicality: 0.5430720448493958\n",
      ", mid: \"/m/02cwf_\"\n",
      "description: \"Shrine\"\n",
      "score: 0.5402026176452637\n",
      "topicality: 0.5402026176452637\n",
      ", mid: \"/m/03gfsp\"\n",
      "description: \"Ceiling\"\n",
      "score: 0.5064085721969604\n",
      "topicality: 0.5064085721969604\n",
      "]\n"
     ]
    }
   ],
   "source": [
    "client = vision.ImageAnnotatorClient()\n",
    "image = vision.types.Image(content=content)\n",
    "response = client.label_detection(image=image, max_results=20) # 각 이미지마다 몇개의 라벨 추출할지 결정\n",
    "labels = response.label_annotations\n",
    "# print(len(labels))\n",
    "print(labels)"
   ]
  },
  {
   "cell_type": "code",
   "execution_count": 13,
   "metadata": {},
   "outputs": [
    {
     "data": {
      "text/plain": [
       "['rome_0']"
      ]
     },
     "execution_count": 13,
     "metadata": {},
     "output_type": "execute_result"
    }
   ],
   "source": [
    "place_list = []\n",
    "place_list.append(file_list[0].replace(\".jpg\",\"\"))\n",
    "place_list"
   ]
  },
  {
   "cell_type": "code",
   "execution_count": 20,
   "metadata": {},
   "outputs": [
    {
     "data": {
      "text/plain": [
       "'Holy places'"
      ]
     },
     "execution_count": 20,
     "metadata": {},
     "output_type": "execute_result"
    }
   ],
   "source": [
    "labels[0].description"
   ]
  },
  {
   "cell_type": "code",
   "execution_count": 21,
   "metadata": {},
   "outputs": [],
   "source": [
    "label_list = []\n",
    "for label in labels:\n",
    "    temp = label.description\n",
    "    label_list.append(temp)"
   ]
  },
  {
   "cell_type": "code",
   "execution_count": 22,
   "metadata": {},
   "outputs": [
    {
     "data": {
      "text/plain": [
       "['Holy places',\n",
       " 'Basilica',\n",
       " 'Place of worship',\n",
       " 'Byzantine architecture',\n",
       " 'Dome',\n",
       " 'Church',\n",
       " 'Building',\n",
       " 'Architecture',\n",
       " 'Religious institute',\n",
       " 'Chapel',\n",
       " 'Synagogue',\n",
       " 'Altar',\n",
       " 'Cathedral',\n",
       " 'Stock photography',\n",
       " 'Convent',\n",
       " 'Interior design',\n",
       " 'Shrine',\n",
       " 'Ceiling']"
      ]
     },
     "execution_count": 22,
     "metadata": {},
     "output_type": "execute_result"
    }
   ],
   "source": [
    "label_list"
   ]
  },
  {
   "cell_type": "code",
   "execution_count": 24,
   "metadata": {},
   "outputs": [],
   "source": [
    "definition = pd.DataFrame({'Label': label_list})"
   ]
  },
  {
   "cell_type": "code",
   "execution_count": 25,
   "metadata": {},
   "outputs": [
    {
     "data": {
      "text/html": [
       "<div>\n",
       "<style scoped>\n",
       "    .dataframe tbody tr th:only-of-type {\n",
       "        vertical-align: middle;\n",
       "    }\n",
       "\n",
       "    .dataframe tbody tr th {\n",
       "        vertical-align: top;\n",
       "    }\n",
       "\n",
       "    .dataframe thead th {\n",
       "        text-align: right;\n",
       "    }\n",
       "</style>\n",
       "<table border=\"1\" class=\"dataframe\">\n",
       "  <thead>\n",
       "    <tr style=\"text-align: right;\">\n",
       "      <th></th>\n",
       "      <th>Label</th>\n",
       "    </tr>\n",
       "  </thead>\n",
       "  <tbody>\n",
       "    <tr>\n",
       "      <th>0</th>\n",
       "      <td>Holy places</td>\n",
       "    </tr>\n",
       "    <tr>\n",
       "      <th>1</th>\n",
       "      <td>Basilica</td>\n",
       "    </tr>\n",
       "    <tr>\n",
       "      <th>2</th>\n",
       "      <td>Place of worship</td>\n",
       "    </tr>\n",
       "    <tr>\n",
       "      <th>3</th>\n",
       "      <td>Byzantine architecture</td>\n",
       "    </tr>\n",
       "    <tr>\n",
       "      <th>4</th>\n",
       "      <td>Dome</td>\n",
       "    </tr>\n",
       "    <tr>\n",
       "      <th>5</th>\n",
       "      <td>Church</td>\n",
       "    </tr>\n",
       "    <tr>\n",
       "      <th>6</th>\n",
       "      <td>Building</td>\n",
       "    </tr>\n",
       "    <tr>\n",
       "      <th>7</th>\n",
       "      <td>Architecture</td>\n",
       "    </tr>\n",
       "    <tr>\n",
       "      <th>8</th>\n",
       "      <td>Religious institute</td>\n",
       "    </tr>\n",
       "    <tr>\n",
       "      <th>9</th>\n",
       "      <td>Chapel</td>\n",
       "    </tr>\n",
       "    <tr>\n",
       "      <th>10</th>\n",
       "      <td>Synagogue</td>\n",
       "    </tr>\n",
       "    <tr>\n",
       "      <th>11</th>\n",
       "      <td>Altar</td>\n",
       "    </tr>\n",
       "    <tr>\n",
       "      <th>12</th>\n",
       "      <td>Cathedral</td>\n",
       "    </tr>\n",
       "    <tr>\n",
       "      <th>13</th>\n",
       "      <td>Stock photography</td>\n",
       "    </tr>\n",
       "    <tr>\n",
       "      <th>14</th>\n",
       "      <td>Convent</td>\n",
       "    </tr>\n",
       "    <tr>\n",
       "      <th>15</th>\n",
       "      <td>Interior design</td>\n",
       "    </tr>\n",
       "    <tr>\n",
       "      <th>16</th>\n",
       "      <td>Shrine</td>\n",
       "    </tr>\n",
       "    <tr>\n",
       "      <th>17</th>\n",
       "      <td>Ceiling</td>\n",
       "    </tr>\n",
       "  </tbody>\n",
       "</table>\n",
       "</div>"
      ],
      "text/plain": [
       "                     Label\n",
       "0              Holy places\n",
       "1                 Basilica\n",
       "2         Place of worship\n",
       "3   Byzantine architecture\n",
       "4                     Dome\n",
       "5                   Church\n",
       "6                 Building\n",
       "7             Architecture\n",
       "8      Religious institute\n",
       "9                   Chapel\n",
       "10               Synagogue\n",
       "11                   Altar\n",
       "12               Cathedral\n",
       "13       Stock photography\n",
       "14                 Convent\n",
       "15         Interior design\n",
       "16                  Shrine\n",
       "17                 Ceiling"
      ]
     },
     "execution_count": 25,
     "metadata": {},
     "output_type": "execute_result"
    }
   ],
   "source": [
    "definition"
   ]
  },
  {
   "cell_type": "code",
   "execution_count": 27,
   "metadata": {},
   "outputs": [
    {
     "data": {
      "text/plain": [
       "18"
      ]
     },
     "execution_count": 27,
     "metadata": {},
     "output_type": "execute_result"
    }
   ],
   "source": [
    "len(definition)"
   ]
  },
  {
   "cell_type": "markdown",
   "metadata": {},
   "source": [
    "### Word2Vec 활용"
   ]
  },
  {
   "cell_type": "code",
   "execution_count": null,
   "metadata": {},
   "outputs": [],
   "source": []
  }
 ],
 "metadata": {
  "kernelspec": {
   "display_name": "Python 3",
   "language": "python",
   "name": "python3"
  },
  "language_info": {
   "codemirror_mode": {
    "name": "ipython",
    "version": 3
   },
   "file_extension": ".py",
   "mimetype": "text/x-python",
   "name": "python",
   "nbconvert_exporter": "python",
   "pygments_lexer": "ipython3",
   "version": "3.7.6"
  }
 },
 "nbformat": 4,
 "nbformat_minor": 4
}
